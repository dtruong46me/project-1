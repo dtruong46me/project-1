{
 "cells": [
  {
   "cell_type": "code",
   "execution_count": 2,
   "metadata": {},
   "outputs": [],
   "source": [
    "import pandas as pd"
   ]
  },
  {
   "cell_type": "code",
   "execution_count": 3,
   "metadata": {},
   "outputs": [],
   "source": [
    "file_path = \"../data/dtn_hsv.csv\"\n",
    "data = pd.read_csv(file_path)"
   ]
  },
  {
   "cell_type": "code",
   "execution_count": 4,
   "metadata": {},
   "outputs": [
    {
     "data": {
      "text/html": [
       "<div>\n",
       "<style scoped>\n",
       "    .dataframe tbody tr th:only-of-type {\n",
       "        vertical-align: middle;\n",
       "    }\n",
       "\n",
       "    .dataframe tbody tr th {\n",
       "        vertical-align: top;\n",
       "    }\n",
       "\n",
       "    .dataframe thead th {\n",
       "        text-align: right;\n",
       "    }\n",
       "</style>\n",
       "<table border=\"1\" class=\"dataframe\">\n",
       "  <thead>\n",
       "    <tr style=\"text-align: right;\">\n",
       "      <th></th>\n",
       "      <th>student_name</th>\n",
       "      <th>email</th>\n",
       "    </tr>\n",
       "  </thead>\n",
       "  <tbody>\n",
       "    <tr>\n",
       "      <th>0</th>\n",
       "      <td>Lê quý an</td>\n",
       "      <td>An.lq213597@sis.hust.edu.vn</td>\n",
       "    </tr>\n",
       "    <tr>\n",
       "      <th>1</th>\n",
       "      <td>Nguyễn Thanh An</td>\n",
       "      <td>An.nt214873@sis.hust.edu.vn</td>\n",
       "    </tr>\n",
       "    <tr>\n",
       "      <th>2</th>\n",
       "      <td>Phạm Thị Thuý An</td>\n",
       "      <td>11200023@st.neu.edu.vn</td>\n",
       "    </tr>\n",
       "    <tr>\n",
       "      <th>3</th>\n",
       "      <td>Bùi Việt Anh</td>\n",
       "      <td>Anh.bv210072@sis.hust.edu.vn</td>\n",
       "    </tr>\n",
       "    <tr>\n",
       "      <th>4</th>\n",
       "      <td>Lê Tuấn Anh</td>\n",
       "      <td>anh.lt203829@sis.hust.edu.vn</td>\n",
       "    </tr>\n",
       "    <tr>\n",
       "      <th>5</th>\n",
       "      <td>Lữ Quốc Anh</td>\n",
       "      <td>Anh.LQ210038@sis.hust.edu.vn</td>\n",
       "    </tr>\n",
       "    <tr>\n",
       "      <th>6</th>\n",
       "      <td>Ngô Việt Anh</td>\n",
       "      <td>Anh.NV214875@sis.hust.edu.vn</td>\n",
       "    </tr>\n",
       "    <tr>\n",
       "      <th>7</th>\n",
       "      <td>Nguyễn Thị Phương Anh</td>\n",
       "      <td>anh.ntp190406@sis.hust.edu.vn</td>\n",
       "    </tr>\n",
       "    <tr>\n",
       "      <th>8</th>\n",
       "      <td>Phạm Thị Phương Anh</td>\n",
       "      <td>Anh.PTP210439P@sis.hust.edu.vn</td>\n",
       "    </tr>\n",
       "    <tr>\n",
       "      <th>9</th>\n",
       "      <td>Trần Lê Đức Anh</td>\n",
       "      <td>anh.tld202782@sis.hust.edu.vn</td>\n",
       "    </tr>\n",
       "  </tbody>\n",
       "</table>\n",
       "</div>"
      ],
      "text/plain": [
       "            student_name                           email\n",
       "0              Lê quý an     An.lq213597@sis.hust.edu.vn\n",
       "1        Nguyễn Thanh An     An.nt214873@sis.hust.edu.vn\n",
       "2       Phạm Thị Thuý An          11200023@st.neu.edu.vn\n",
       "3           Bùi Việt Anh    Anh.bv210072@sis.hust.edu.vn\n",
       "4            Lê Tuấn Anh    anh.lt203829@sis.hust.edu.vn\n",
       "5            Lữ Quốc Anh    Anh.LQ210038@sis.hust.edu.vn\n",
       "6           Ngô Việt Anh    Anh.NV214875@sis.hust.edu.vn\n",
       "7  Nguyễn Thị Phương Anh   anh.ntp190406@sis.hust.edu.vn\n",
       "8    Phạm Thị Phương Anh  Anh.PTP210439P@sis.hust.edu.vn\n",
       "9        Trần Lê Đức Anh   anh.tld202782@sis.hust.edu.vn"
      ]
     },
     "execution_count": 4,
     "metadata": {},
     "output_type": "execute_result"
    }
   ],
   "source": [
    "data.head(10)"
   ]
  },
  {
   "cell_type": "code",
   "execution_count": 5,
   "metadata": {},
   "outputs": [
    {
     "data": {
      "text/html": [
       "<div>\n",
       "<style scoped>\n",
       "    .dataframe tbody tr th:only-of-type {\n",
       "        vertical-align: middle;\n",
       "    }\n",
       "\n",
       "    .dataframe tbody tr th {\n",
       "        vertical-align: top;\n",
       "    }\n",
       "\n",
       "    .dataframe thead th {\n",
       "        text-align: right;\n",
       "    }\n",
       "</style>\n",
       "<table border=\"1\" class=\"dataframe\">\n",
       "  <thead>\n",
       "    <tr style=\"text-align: right;\">\n",
       "      <th></th>\n",
       "      <th>student_name</th>\n",
       "      <th>email</th>\n",
       "    </tr>\n",
       "  </thead>\n",
       "  <tbody>\n",
       "    <tr>\n",
       "      <th>987</th>\n",
       "      <td>Nguyễn Hoàng Cường</td>\n",
       "      <td>Cuong.NH215914@sis.hust.edu.vn</td>\n",
       "    </tr>\n",
       "    <tr>\n",
       "      <th>988</th>\n",
       "      <td>Hoàng Việt Anh</td>\n",
       "      <td>Anh.HV215902@sis.hust.edu.vn</td>\n",
       "    </tr>\n",
       "    <tr>\n",
       "      <th>989</th>\n",
       "      <td>Dương Ngọc Tiền</td>\n",
       "      <td>thuong.dh214475@sis.hust.edu.vn</td>\n",
       "    </tr>\n",
       "    <tr>\n",
       "      <th>990</th>\n",
       "      <td>Phạm Thị Vân Anh</td>\n",
       "      <td>anh.ptv187056@sis.hust.edu.vn</td>\n",
       "    </tr>\n",
       "    <tr>\n",
       "      <th>991</th>\n",
       "      <td>Dương Trung Hiếu</td>\n",
       "      <td>hieu.dt206554@sis.hust.edu.vn</td>\n",
       "    </tr>\n",
       "    <tr>\n",
       "      <th>992</th>\n",
       "      <td>Nguyễn Hữu Toàn</td>\n",
       "      <td>toan.nh207868@sis.hust.edu.vn</td>\n",
       "    </tr>\n",
       "    <tr>\n",
       "      <th>993</th>\n",
       "      <td>Đặng Trung Hiếu</td>\n",
       "      <td>Hieu.dt187438@sis.hust.edu.vn</td>\n",
       "    </tr>\n",
       "    <tr>\n",
       "      <th>994</th>\n",
       "      <td>Vũ Bình Minh</td>\n",
       "      <td>minh.vb207690@sis.hust.edu.vn</td>\n",
       "    </tr>\n",
       "    <tr>\n",
       "      <th>995</th>\n",
       "      <td>Nguyễn Công Nguyên</td>\n",
       "      <td>nguyen.nc187269@sis.hust.edu.vn</td>\n",
       "    </tr>\n",
       "    <tr>\n",
       "      <th>996</th>\n",
       "      <td>Lê Quỳnh Lan</td>\n",
       "      <td>lan.lq198238@sis.hust.edu.vn</td>\n",
       "    </tr>\n",
       "  </tbody>\n",
       "</table>\n",
       "</div>"
      ],
      "text/plain": [
       "           student_name                            email\n",
       "987  Nguyễn Hoàng Cường   Cuong.NH215914@sis.hust.edu.vn\n",
       "988    Hoàng Việt Anh     Anh.HV215902@sis.hust.edu.vn\n",
       "989     Dương Ngọc Tiền  thuong.dh214475@sis.hust.edu.vn\n",
       "990    Phạm Thị Vân Anh    anh.ptv187056@sis.hust.edu.vn\n",
       "991    Dương Trung Hiếu    hieu.dt206554@sis.hust.edu.vn\n",
       "992     Nguyễn Hữu Toàn    toan.nh207868@sis.hust.edu.vn\n",
       "993     Đặng Trung Hiếu    Hieu.dt187438@sis.hust.edu.vn\n",
       "994        Vũ Bình Minh    minh.vb207690@sis.hust.edu.vn\n",
       "995  Nguyễn Công Nguyên  nguyen.nc187269@sis.hust.edu.vn\n",
       "996        Lê Quỳnh Lan     lan.lq198238@sis.hust.edu.vn"
      ]
     },
     "execution_count": 5,
     "metadata": {},
     "output_type": "execute_result"
    }
   ],
   "source": [
    "data.tail(10)"
   ]
  },
  {
   "cell_type": "code",
   "execution_count": 6,
   "metadata": {},
   "outputs": [
    {
     "data": {
      "text/plain": [
       "pandas.core.frame.DataFrame"
      ]
     },
     "execution_count": 6,
     "metadata": {},
     "output_type": "execute_result"
    }
   ],
   "source": [
    "type(data)"
   ]
  },
  {
   "cell_type": "code",
   "execution_count": 7,
   "metadata": {},
   "outputs": [
    {
     "data": {
      "text/plain": [
       "(997, 2)"
      ]
     },
     "execution_count": 7,
     "metadata": {},
     "output_type": "execute_result"
    }
   ],
   "source": [
    "data.shape"
   ]
  },
  {
   "cell_type": "code",
   "execution_count": null,
   "metadata": {},
   "outputs": [],
   "source": []
  }
 ],
 "metadata": {
  "kernelspec": {
   "display_name": "Python 3",
   "language": "python",
   "name": "python3"
  },
  "language_info": {
   "codemirror_mode": {
    "name": "ipython",
    "version": 3
   },
   "file_extension": ".py",
   "mimetype": "text/x-python",
   "name": "python",
   "nbconvert_exporter": "python",
   "pygments_lexer": "ipython3",
   "version": "3.10.3"
  }
 },
 "nbformat": 4,
 "nbformat_minor": 2
}
